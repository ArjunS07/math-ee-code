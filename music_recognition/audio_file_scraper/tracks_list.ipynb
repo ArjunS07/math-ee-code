{
 "cells": [
  {
   "cell_type": "code",
   "execution_count": 1,
   "metadata": {},
   "outputs": [],
   "source": [
    "import os\n",
    "import csv\n",
    "import scipy"
   ]
  },
  {
   "cell_type": "code",
   "execution_count": 2,
   "metadata": {},
   "outputs": [],
   "source": [
    "tracks = []\n",
    "with open('tracks_database.csv', 'r') as f:\n",
    "    reader = csv.reader(f)\n",
    "    tracks = [x[0] for x in list(reader)]\n",
    "durations = []\n",
    "for track in tracks:\n",
    "    # Get the length of the audio track\n",
    "    audio_file_path = f\"recordings/{track}.wav\"\n",
    "    sample_rate, audio_data = scipy.io.wavfile.read(audio_file_path)\n",
    "    audio_file_length = round(len(audio_data) / sample_rate, 2)\n",
    "    durations.append(audio_file_length)"
   ]
  },
  {
   "cell_type": "code",
   "execution_count": 3,
   "metadata": {},
   "outputs": [],
   "source": [
    "# Split each of the tracks where 'by' or 'BY' occurs\n",
    "artists = []\n",
    "track_names = []\n",
    "for track in tracks:\n",
    "    splitted = ''\n",
    "    if 'by' in track:\n",
    "        splitted = track.split('by')\n",
    "    elif 'BY' in track:\n",
    "        splitted = track.split('BY')\n",
    "    \n",
    "    if splitted != '':\n",
    "        artists.append(splitted[1].strip())\n",
    "        track_names.append(splitted[0].strip())\n",
    "    else:\n",
    "        artists.append('Unknown')\n",
    "        track_names.append(track.strip())"
   ]
  },
  {
   "cell_type": "code",
   "execution_count": 4,
   "metadata": {},
   "outputs": [],
   "source": [
    "track_names = [x.replace(\"_\", \" \") for x in track_names]\n",
    "artists = [x.replace(\"_\", \" \") for x in artists]"
   ]
  },
  {
   "cell_type": "code",
   "execution_count": 8,
   "metadata": {},
   "outputs": [],
   "source": [
    "# Generate a LaTex table with the track names and durations\n",
    "with open('tracks_table.tex', 'w') as f:\n",
    "    f.write(\"\\\\textbf{Track Name} & \\\\textbf{Duration (seconds)} & \\\\textbf{Track Name} & \\\\textbf{Duration (seconds)}  \\\\\\\\ \\\\hline\\n\")\n",
    "    for i, (track, artist, duration) in enumerate(zip(track_names, artists, durations)):\n",
    "        # Write two per line\n",
    "        if i % 2 == 0:\n",
    "            f.write(f\"{track} & {duration} & \")\n",
    "        else:\n",
    "            f.write(f\"{track} & {duration} \\\\\\\\ \\\\hline\\n\")"
   ]
  }
 ],
 "metadata": {
  "kernelspec": {
   "display_name": "Python 3",
   "language": "python",
   "name": "python3"
  },
  "language_info": {
   "codemirror_mode": {
    "name": "ipython",
    "version": 3
   },
   "file_extension": ".py",
   "mimetype": "text/x-python",
   "name": "python",
   "nbconvert_exporter": "python",
   "pygments_lexer": "ipython3",
   "version": "3.11.5"
  }
 },
 "nbformat": 4,
 "nbformat_minor": 2
}
