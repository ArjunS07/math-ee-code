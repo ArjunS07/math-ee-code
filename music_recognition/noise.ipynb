{
 "cells": [
  {
   "cell_type": "code",
   "execution_count": 1,
   "metadata": {},
   "outputs": [],
   "source": [
    "import numpy as np\n",
    "from numpy.fft import fft\n",
    "import IPython\n",
    "import random\n",
    "import matplotlib.pyplot as plt\n",
    "import scipy\n",
    "plt.rcParams[\"text.usetex\"] = True"
   ]
  },
  {
   "cell_type": "code",
   "execution_count": null,
   "metadata": {},
   "outputs": [],
   "source": [
    "def add_random_noise(audio_data: np.array, volume_ratio: float) -> np.array:\n",
    "    \"\"\"\n",
    "    Adds random gaussian noise to audio of length `length` at a random index\n",
    "    \"\"\"\n",
    "    if volume_ratio == 0:\n",
    "        return audio_data\n",
    "    data = audio_data.astype(np.float64)\n",
    "    mean_noise_level = np.mean(np.abs(data))\n",
    "    print(f'Mean noise level: {mean_noise_level}')\n",
    "    noise = np.random.normal(0, volume_ratio * mean_noise_level, len(data))\n",
    "    data += noise\n",
    "    return data, noise"
   ]
  },
  {
   "cell_type": "code",
   "execution_count": null,
   "metadata": {},
   "outputs": [],
   "source": [
    "path = \"test.wav\"\n",
    "sample_rate_hz, audio_data = scipy.io.wavfile.read(path)\n",
    "audio_data = np.mean(audio_data, axis=1) # convert stereo to mono\n",
    "audio_data = audio_data[:(10 * sample_rate_hz)]\n",
    "\n",
    "print(sample_rate_hz)"
   ]
  },
  {
   "cell_type": "code",
   "execution_count": null,
   "metadata": {},
   "outputs": [],
   "source": [
    "IPython.display.Audio(audio_data, rate=sample_rate_hz)"
   ]
  },
  {
   "cell_type": "code",
   "execution_count": null,
   "metadata": {},
   "outputs": [],
   "source": [
    "plt.plot(fft(audio_data))"
   ]
  },
  {
   "cell_type": "code",
   "execution_count": null,
   "metadata": {},
   "outputs": [],
   "source": [
    "import IPython\n",
    "noisy, noise = add_random_noise(audio_data, volume_ratio=1)\n",
    "IPython.display.Audio(noisy, rate=sample_rate_hz)"
   ]
  },
  {
   "cell_type": "code",
   "execution_count": null,
   "metadata": {},
   "outputs": [],
   "source": [
    "print(len(audio_data))\n",
    "print(sample_rate_hz)"
   ]
  },
  {
   "cell_type": "code",
   "execution_count": null,
   "metadata": {},
   "outputs": [],
   "source": [
    "plt.clf()\n",
    "fig, axs = plt.subplots(1, 3)\n",
    "fig.set_size_inches(20, 4)\n",
    "\n",
    "labels = [x / sample_rate_hz for x in list(range(0, len(audio_data) + 1, sample_rate_hz))]\n",
    "\n",
    "rescaled_audio_time_vals = np.linspace(0, len(audio_data) / sample_rate_hz, len(audio_data))\n",
    "\n",
    "print(labels)\n",
    "\n",
    "axs[0].plot(rescaled_audio_time_vals, audio_data)\n",
    "axs[0].set_title(\"Original signal $f(x)$\")\n",
    "axs[0].set_xlim(0, 10)\n",
    "axs[0].set_xlabel(\"Time (s)\")\n",
    "axs[0].set_ylabel(\"Signal amplitude\")\n",
    "\n",
    "axs[1].plot(rescaled_audio_time_vals, noise)\n",
    "axs[1].set_title(r\"Random noise $g(x)$ $(h = 1)$\")\n",
    "axs[1].set_ylim(min(audio_data), max(audio_data))\n",
    "axs[1].set_yticks([])\n",
    "axs[1].set_xlim(0, 10)\n",
    "axs[1].set_xlabel(r\"Time (s)\")\n",
    "\n",
    "axs[2].plot(rescaled_audio_time_vals, noisy)\n",
    "axs[2].set_title(r\"$f(x) + g(x)$\")\n",
    "axs[2].set_ylim(min(audio_data), max(audio_data))\n",
    "axs[2].set_yticks([])\n",
    "axs[2].set_xlim(0, 10)\n",
    "axs[2].set_xlabel(r\"Time (s)\")\n",
    "\n",
    "plt.tight_layout()\n",
    "plt.savefig(\"noise-before-after-time-domain.png\")"
   ]
  },
  {
   "cell_type": "code",
   "execution_count": null,
   "metadata": {},
   "outputs": [],
   "source": [
    "plt.clf()\n",
    "fig, axs = plt.subplots(1, 3)\n",
    "fig.set_size_inches(20, 4)\n",
    "\n",
    "axs[0].plot(np.fft.rfftfreq(len(audio_data), d=1/sample_rate_hz), np.fft.rfft(audio_data))\n",
    "axs[0].set_title(\"DFT of $f(x)$\")\n",
    "axs[0].set_xlabel(\"Frequency\")\n",
    "axs[0].set_ylabel(\"Magnitude of real coefficient\")\n",
    "\n",
    "axs[1].plot(np.fft.rfftfreq(len(noise), d=1/sample_rate_hz), np.fft.rfft(noise))\n",
    "axs[1].set_title(\"DFT of random noise $g(x)$ $(h = 1)$\")\n",
    "axs[1].set_ylim(min(np.fft.rfft(audio_data)), max(np.fft.rfft(audio_data)))\n",
    "axs[1].set_yticks([])\n",
    "axs[1].set_xlabel(\"Frequency\")\n",
    "\n",
    "axs[2].plot(np.fft.rfftfreq(len(noisy), d=1/sample_rate_hz), np.fft.rfft(noisy))\n",
    "axs[2].set_title(\"DFT of $f(x) + g(x)$\")\n",
    "axs[2].set_ylim(min(np.fft.rfft(audio_data)), max(np.fft.rfft(audio_data)))\n",
    "axs[2].set_yticks([])\n",
    "axs[2].set_xlabel(\"Frequency\")\n",
    "\n",
    "plt.tight_layout()\n",
    "plt.savefig(\"noise-before-after-frequency-domain.png\")"
   ]
  },
  {
   "cell_type": "code",
   "execution_count": null,
   "metadata": {},
   "outputs": [],
   "source": [
    "mean_noise_level = np.mean(np.abs(audio_data))\n",
    "mean_noise_level\n",
    "mean_noise_level = 20 * np.log10(mean_noise_level)"
   ]
  },
  {
   "cell_type": "code",
   "execution_count": null,
   "metadata": {},
   "outputs": [],
   "source": [
    "NOISE_LEVELS = [0.0, 0.5, 1.0, 2.5, 5.0, 7.5, 10.0]\n",
    "distributions = []\n",
    "for noise_level in NOISE_LEVELS:\n",
    "    distributions.append(\n",
    "        np.random.normal(0, noise_level * mean_noise_level, len(audio_data))\n",
    "    )"
   ]
  },
  {
   "cell_type": "code",
   "execution_count": null,
   "metadata": {},
   "outputs": [],
   "source": [
    "from scipy.stats import norm\n",
    "x_axis = np.arange(-3*mean_noise_level, 3*mean_noise_level, 1)\n",
    "\n",
    "for noise_level in NOISE_LEVELS[1:]:\n",
    "    plt.plot(x_axis, norm.pdf(x_axis,0,noise_level * mean_noise_level), label=f'{noise_level}')\n",
    "plt.title('Gaussian noise distributions for different noise levels')\n",
    "plt.xlabel('Energy level')\n",
    "plt.ylabel('Probability density $P(x)$')\n",
    "plt.legend(title='$h$')\n",
    "plt.tight_layout()\n",
    "plt.savefig('noise_distributions.png')\n"
   ]
  }
 ],
 "metadata": {
  "kernelspec": {
   "display_name": "Python 3",
   "language": "python",
   "name": "python3"
  },
  "language_info": {
   "codemirror_mode": {
    "name": "ipython",
    "version": 3
   },
   "file_extension": ".py",
   "mimetype": "text/x-python",
   "name": "python",
   "nbconvert_exporter": "python",
   "pygments_lexer": "ipython3",
   "version": "3.11.5"
  }
 },
 "nbformat": 4,
 "nbformat_minor": 2
}
