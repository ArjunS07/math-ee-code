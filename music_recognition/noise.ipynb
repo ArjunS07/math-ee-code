{
 "cells": [
  {
   "cell_type": "code",
   "execution_count": 4,
   "metadata": {},
   "outputs": [],
   "source": [
    "import numpy as np\n",
    "import IPython\n",
    "import random\n",
    "import matplotlib.pyplot as plt\n",
    "import scipy"
   ]
  },
  {
   "cell_type": "code",
   "execution_count": 5,
   "metadata": {},
   "outputs": [],
   "source": [
    "def add_random_noise(audio_data: np.array, volume_ratio: float) -> np.array:\n",
    "    \"\"\"\n",
    "    Adds random gaussian noise to audio of length `length` at a random index\n",
    "    \"\"\"\n",
    "    if volume_ratio == 0:\n",
    "        return audio_data\n",
    "    data = audio_data.astype(np.float64)\n",
    "    mean_noise_level = np.mean(np.abs(data))\n",
    "    print(f'Mean noise level: {mean_noise_level}')\n",
    "    noise = np.random.normal(0, volume_ratio * mean_noise_level, len(data))\n",
    "    data += noise\n",
    "    return data"
   ]
  },
  {
   "cell_type": "code",
   "execution_count": 6,
   "metadata": {},
   "outputs": [
    {
     "name": "stdout",
     "output_type": "stream",
     "text": [
      "44100\n"
     ]
    }
   ],
   "source": [
    "path = \"test.wav\"\n",
    "sample_rate_hz, audio_data = scipy.io.wavfile.read(path)\n",
    "audio_data = np.mean(audio_data, axis=1) # convert stereo to mono\n",
    "print(sample_rate_hz)"
   ]
  },
  {
   "cell_type": "code",
   "execution_count": 40,
   "metadata": {},
   "outputs": [
    {
     "data": {
      "text/plain": [
       "array([1059.41478386, 2960.21789434, 3723.02674617, ...,  517.05266873,\n",
       "       1772.30589437, 1003.74286183])"
      ]
     },
     "execution_count": 40,
     "metadata": {},
     "output_type": "execute_result"
    }
   ],
   "source": [
    "mean_noise_level = np.mean(np.abs(audio_data))\n",
    "random_noise = np.random.normal(loc=0, scale=mean_noise_level, size=len(audio_data))\n",
    "random_noise"
   ]
  },
  {
   "cell_type": "code",
   "execution_count": 41,
   "metadata": {},
   "outputs": [
    {
     "data": {
      "text/plain": [
       "(array([1., 0., 0., ..., 0., 0., 1.]),\n",
       " array([-10699.76502475, -10697.18117317, -10694.59732159, ...,\n",
       "         15133.58308417,  15136.16693575,  15138.75078733]),\n",
       " <BarContainer object of 10000 artists>)"
      ]
     },
     "execution_count": 41,
     "metadata": {},
     "output_type": "execute_result"
    },
    {
     "data": {
      "image/png": "[encoded data removed]",
      "text/plain": [
       "<Figure size 640x480 with 1 Axes>"
      ]
     },
     "metadata": {},
     "output_type": "display_data"
    }
   ],
   "source": [
    "plt.hist(random_noise, bins=10_000)"
   ]
  },
  {
   "cell_type": "code",
   "execution_count": null,
   "metadata": {},
   "outputs": [],
   "source": []
  }
 ],
 "metadata": {
  "kernelspec": {
   "display_name": "Python 3",
   "language": "python",
   "name": "python3"
  },
  "language_info": {
   "codemirror_mode": {
    "name": "ipython",
    "version": 3
   },
   "file_extension": ".py",
   "mimetype": "text/x-python",
   "name": "python",
   "nbconvert_exporter": "python",
   "pygments_lexer": "ipython3",
   "version": "3.11.5"
  }
 },
 "nbformat": 4,
 "nbformat_minor": 2
}
