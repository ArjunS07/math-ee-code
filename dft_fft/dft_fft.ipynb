{
 "cells": [
  {
   "cell_type": "code",
   "execution_count": 1,
   "metadata": {},
   "outputs": [],
   "source": [
    "import numpy as np\n",
    "import matplotlib.pyplot as plt"
   ]
  },
  {
   "cell_type": "code",
   "execution_count": 2,
   "metadata": {},
   "outputs": [
    {
     "name": "stdout",
     "output_type": "stream",
     "text": [
      "44100\n"
     ]
    }
   ],
   "source": [
    "# Load an audio file and run the DFT on it\n",
    "import scipy.io.wavfile\n",
    "path = \"../music_recognition/test.wav\"\n",
    "rate, data = scipy.io.wavfile.read(path)\n",
    "print(rate)\n",
    "\n",
    "# turn the stereo signal into mono by averaging the channels\n",
    "data = np.mean(data, axis=1)\n"
   ]
  },
  {
   "cell_type": "code",
   "execution_count": 3,
   "metadata": {},
   "outputs": [],
   "source": [
    "# Naive DFT implementation\n",
    "def dft(x) -> np.ndarray:\n",
    "    x = np.asarray(x, dtype=float)\n",
    "    N = x.shape[0]\n",
    "    n = np.arange(N) # Returns a vector of size N with values from 0 to N-1\n",
    "    k = n.reshape((N, 1)) # Turns the vector into a column vector\n",
    "    M = np.exp(-2j * np.pi * k * n / N) # Creates the DFT matrix. j is used instead of i.\n",
    "    return np.dot(M, x) # Multiply the matrix by the signal\n",
    "\n",
    "def fft(x):\n",
    "    N = len(x)\n",
    "    zeros = np.zeros((2**(N-1).bit_length() - N), dtype=complex)\n",
    "    x = np.concatenate((x, zeros))\n",
    "    N = len(x)\n",
    "    \n",
    "    if N == 1:\n",
    "        return x\n",
    "    else:\n",
    "        X_even = fft(x[::2]) # start at 0 with step size of 2\n",
    "        X_odd = fft(x[1::2]) # start at 1 with step size of 2\n",
    "\n",
    "        X = np.zeros(N, dtype=complex)\n",
    "        for m in range(N):\n",
    "            m_to_use = m if m < (N//2) else m - (N // 2)\n",
    "            w_N = np.exp(-2j * np.pi * m / N)\n",
    "            X[m] = (X_even[m_to_use]) + (np.multiply(w_N, X_odd[m_to_use]))\n",
    "        return X"
   ]
  },
  {
   "cell_type": "code",
   "execution_count": 4,
   "metadata": {},
   "outputs": [],
   "source": [
    "import time\n",
    "def time_dft(x):\n",
    "    start = time.time()\n",
    "    dft(x)\n",
    "    end = time.time()\n",
    "    return end - start\n",
    "def time_fft(x):\n",
    "    start = time.time()\n",
    "    fft(x)\n",
    "    end = time.time()\n",
    "    return end - start"
   ]
  },
  {
   "cell_type": "code",
   "execution_count": 5,
   "metadata": {},
   "outputs": [
    {
     "name": "stdout",
     "output_type": "stream",
     "text": [
      "Testing length=500\n",
      "Testing length=1000\n",
      "Testing length=1500\n",
      "Testing length=2000\n",
      "Testing length=2500\n",
      "Testing length=3000\n",
      "Testing length=3500\n",
      "Testing length=4000\n",
      "Testing length=4500\n",
      "Testing length=5000\n",
      "Testing length=5500\n",
      "Testing length=6000\n",
      "Testing length=6500\n",
      "Testing length=7000\n",
      "Testing length=7500\n",
      "Testing length=8000\n",
      "Testing length=8500\n",
      "Testing length=9000\n",
      "Testing length=9500\n",
      "Testing length=10000\n",
      "Testing length=10500\n",
      "Testing length=11000\n",
      "Testing length=11500\n",
      "Testing length=12000\n"
     ]
    }
   ],
   "source": [
    "dft_times = []\n",
    "fft_times = []\n",
    "\n",
    "lengths_tested = list(range(500, 12_500, 500))\n",
    "lengths_tested = list(lengths_tested)\n",
    "\n",
    "for length in lengths_tested:\n",
    "    print(f\"Testing {length=}\")\n",
    "    dft_times.append(time_dft(data[:length]))\n",
    "    fft_times.append(time_fft(data[:length]))"
   ]
  },
  {
   "cell_type": "code",
   "execution_count": 6,
   "metadata": {},
   "outputs": [],
   "source": [
    "from scipy.optimize import curve_fit\n",
    "\n",
    "def get_custom_curve_fit(x, y, func):\n",
    "    \"\"\"\n",
    "    Returns params and the coefficient of determination $R^2$\n",
    "    \"\"\"\n",
    "\n",
    "    popt, _ = curve_fit(func, x, y)\n",
    "    residuals = y - func(x, *popt)\n",
    "    ss_res = np.sum(residuals**2)\n",
    "    ss_tot = np.sum((y-np.mean(y))**2)\n",
    "    r_squared = 1 - (ss_res / ss_tot)\n",
    "    return popt, r_squared\n",
    "\n",
    "def quadratic(x, a, b, c):\n",
    "    \"\"\"Quadratic function of the form $ax^2 + bx + c$\"\"\"\n",
    "    return a * (np.power(x, 2)) + (np.multiply(b, x)) + c\n",
    "\n",
    "def linearithmic(x, a, b):\n",
    "    \"\"\"Linearithmic function of the form $ax log_2 x + b\"\"\"\n",
    "    return np.multiply((np.multiply(a, x)), np.log2(x)) + b\n"
   ]
  },
  {
   "cell_type": "code",
   "execution_count": 7,
   "metadata": {},
   "outputs": [
    {
     "name": "stdout",
     "output_type": "stream",
     "text": [
      "dft_params=array([ 2.32117990e-08, -5.26392885e-05,  1.07919740e-01]) dft_r_squared=0.9930809636388757\n",
      "fft_params=array([2.08511221e-06, 3.20184503e-02]) fft_r_squared=0.7990008859731539\n"
     ]
    }
   ],
   "source": [
    "dft_params, dft_r_squared = get_custom_curve_fit(lengths_tested, dft_times, quadratic)\n",
    "fft_params, fft_r_squared = get_custom_curve_fit(lengths_tested, fft_times, linearithmic)\n",
    "print(f'{dft_params=} {dft_r_squared=}')\n",
    "print(f'{fft_params=} {fft_r_squared=}')\n",
    "\n",
    "dft_fit = [quadratic(x, *dft_params) for x in lengths_tested]\n",
    "fft_fit = [linearithmic(x, *fft_params) for x in lengths_tested]"
   ]
  },
  {
   "cell_type": "code",
   "execution_count": 8,
   "metadata": {},
   "outputs": [
    {
     "data": {
      "text/plain": [
       "(array([2.08511221e-06, 3.20184503e-02]), 0.7990008859731539)"
      ]
     },
     "execution_count": 8,
     "metadata": {},
     "output_type": "execute_result"
    }
   ],
   "source": [
    "get_custom_curve_fit(lengths_tested, fft_times, linearithmic)"
   ]
  },
  {
   "cell_type": "code",
   "execution_count": 9,
   "metadata": {},
   "outputs": [
    {
     "data": {
      "image/png": "[encoded data removed]",
      "text/plain": [
       "<Figure size 640x480 with 1 Axes>"
      ]
     },
     "metadata": {},
     "output_type": "display_data"
    }
   ],
   "source": [
    "plt.clf()\n",
    "# Plot the results\n",
    "plt.scatter(lengths_tested, dft_times, label=\"Naive DFT\")\n",
    "plt.scatter(lengths_tested, fft_times, label=\"FFT\")\n",
    "\n",
    "# Plot the line of best fit for each\n",
    "plt.plot(lengths_tested, dft_fit, label=\"Quadratic ($x^2$) fit for DFT\")\n",
    "plt.plot(lengths_tested, fft_fit, label=\"Linearithmic ($x \\log_2 x$) fit FFT \")\n",
    "\n",
    "# Write the R^2 values for each fit\n",
    "plt.text(8_000, .9, f\"$R^2=$ {dft_r_squared:.4f}\")\n",
    "plt.text(8_000, 0.0, f\"$R^2=$ {fft_r_squared:.4f}\")\n",
    "\n",
    "plt.xlabel(\"Signal Length\")\n",
    "plt.ylabel(\"Time (s)\")\n",
    "plt.legend()\n",
    "plt.savefig(\"dft_vs_fft.png\")"
   ]
  }
 ],
 "metadata": {
  "kernelspec": {
   "display_name": "Python 3",
   "language": "python",
   "name": "python3"
  },
  "language_info": {
   "codemirror_mode": {
    "name": "ipython",
    "version": 3
   },
   "file_extension": ".py",
   "mimetype": "text/x-python",
   "name": "python",
   "nbconvert_exporter": "python",
   "pygments_lexer": "ipython3",
   "version": "3.11.5"
  }
 },
 "nbformat": 4,
 "nbformat_minor": 2
}
